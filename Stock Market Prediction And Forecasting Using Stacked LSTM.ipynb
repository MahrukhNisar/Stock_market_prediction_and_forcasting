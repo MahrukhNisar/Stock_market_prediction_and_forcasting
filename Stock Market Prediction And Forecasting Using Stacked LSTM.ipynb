{
 "cells": [
  {
   "cell_type": "markdown",
   "id": "509cb1f1",
   "metadata": {},
   "source": [
    "# Stock Market Prediction And Forecasting Using Stacked LSTM"
   ]
  },
  {
   "cell_type": "markdown",
   "id": "06c44c69",
   "metadata": {},
   "source": [
    "# Import Modules:"
   ]
  },
  {
   "cell_type": "code",
   "execution_count": 2,
   "id": "abd74584",
   "metadata": {},
   "outputs": [
    {
     "name": "stdout",
     "output_type": "stream",
     "text": [
      "Requirement already satisfied: tensorflow in d:\\anacconda\\lib\\site-packages (2.12.0)\n",
      "Requirement already satisfied: tensorflow-intel==2.12.0 in d:\\anacconda\\lib\\site-packages (from tensorflow) (2.12.0)\n",
      "Requirement already satisfied: opt-einsum>=2.3.2 in d:\\anacconda\\lib\\site-packages (from tensorflow-intel==2.12.0->tensorflow) (3.3.0)\n",
      "Requirement already satisfied: absl-py>=1.0.0 in d:\\anacconda\\lib\\site-packages (from tensorflow-intel==2.12.0->tensorflow) (1.4.0)\n",
      "Requirement already satisfied: six>=1.12.0 in d:\\anacconda\\lib\\site-packages (from tensorflow-intel==2.12.0->tensorflow) (1.16.0)\n",
      "Requirement already satisfied: libclang>=13.0.0 in d:\\anacconda\\lib\\site-packages (from tensorflow-intel==2.12.0->tensorflow) (16.0.0)\n",
      "Requirement already satisfied: tensorflow-io-gcs-filesystem>=0.23.1 in d:\\anacconda\\lib\\site-packages (from tensorflow-intel==2.12.0->tensorflow) (0.31.0)\n",
      "Requirement already satisfied: jax>=0.3.15 in d:\\anacconda\\lib\\site-packages (from tensorflow-intel==2.12.0->tensorflow) (0.4.13)\n",
      "Requirement already satisfied: gast<=0.4.0,>=0.2.1 in d:\\anacconda\\lib\\site-packages (from tensorflow-intel==2.12.0->tensorflow) (0.4.0)\n",
      "Requirement already satisfied: astunparse>=1.6.0 in d:\\anacconda\\lib\\site-packages (from tensorflow-intel==2.12.0->tensorflow) (1.6.3)\n",
      "Requirement already satisfied: wrapt<1.15,>=1.11.0 in d:\\anacconda\\lib\\site-packages (from tensorflow-intel==2.12.0->tensorflow) (1.12.1)\n",
      "Requirement already satisfied: tensorboard<2.13,>=2.12 in d:\\anacconda\\lib\\site-packages (from tensorflow-intel==2.12.0->tensorflow) (2.12.3)\n",
      "Requirement already satisfied: tensorflow-estimator<2.13,>=2.12.0 in d:\\anacconda\\lib\\site-packages (from tensorflow-intel==2.12.0->tensorflow) (2.12.0)\n",
      "Requirement already satisfied: google-pasta>=0.1.1 in d:\\anacconda\\lib\\site-packages (from tensorflow-intel==2.12.0->tensorflow) (0.2.0)\n",
      "Requirement already satisfied: grpcio<2.0,>=1.24.3 in d:\\anacconda\\lib\\site-packages (from tensorflow-intel==2.12.0->tensorflow) (1.56.0)\n",
      "Requirement already satisfied: keras<2.13,>=2.12.0 in d:\\anacconda\\lib\\site-packages (from tensorflow-intel==2.12.0->tensorflow) (2.12.0)\n",
      "Requirement already satisfied: packaging in d:\\anacconda\\lib\\site-packages (from tensorflow-intel==2.12.0->tensorflow) (21.3)\n",
      "Requirement already satisfied: typing-extensions>=3.6.6 in d:\\anacconda\\lib\\site-packages (from tensorflow-intel==2.12.0->tensorflow) (4.1.1)\n",
      "Requirement already satisfied: protobuf!=4.21.0,!=4.21.1,!=4.21.2,!=4.21.3,!=4.21.4,!=4.21.5,<5.0.0dev,>=3.20.3 in d:\\anacconda\\lib\\site-packages (from tensorflow-intel==2.12.0->tensorflow) (4.23.3)\n",
      "Requirement already satisfied: termcolor>=1.1.0 in d:\\anacconda\\lib\\site-packages (from tensorflow-intel==2.12.0->tensorflow) (2.3.0)\n",
      "Requirement already satisfied: h5py>=2.9.0 in d:\\anacconda\\lib\\site-packages (from tensorflow-intel==2.12.0->tensorflow) (3.6.0)\n",
      "Requirement already satisfied: setuptools in d:\\anacconda\\lib\\site-packages (from tensorflow-intel==2.12.0->tensorflow) (61.2.0)\n",
      "Requirement already satisfied: flatbuffers>=2.0 in d:\\anacconda\\lib\\site-packages (from tensorflow-intel==2.12.0->tensorflow) (23.5.26)\n",
      "Requirement already satisfied: numpy<1.24,>=1.22 in d:\\anacconda\\lib\\site-packages (from tensorflow-intel==2.12.0->tensorflow) (1.22.4)\n",
      "Requirement already satisfied: wheel<1.0,>=0.23.0 in d:\\anacconda\\lib\\site-packages (from astunparse>=1.6.0->tensorflow-intel==2.12.0->tensorflow) (0.37.1)\n",
      "Requirement already satisfied: scipy>=1.7 in d:\\anacconda\\lib\\site-packages (from jax>=0.3.15->tensorflow-intel==2.12.0->tensorflow) (1.7.3)\n",
      "Requirement already satisfied: ml-dtypes>=0.1.0 in d:\\anacconda\\lib\\site-packages (from jax>=0.3.15->tensorflow-intel==2.12.0->tensorflow) (0.2.0)\n",
      "Requirement already satisfied: importlib-metadata>=4.6 in d:\\anacconda\\lib\\site-packages (from jax>=0.3.15->tensorflow-intel==2.12.0->tensorflow) (4.11.3)\n",
      "Requirement already satisfied: zipp>=0.5 in d:\\anacconda\\lib\\site-packages (from importlib-metadata>=4.6->jax>=0.3.15->tensorflow-intel==2.12.0->tensorflow) (3.7.0)\n",
      "Requirement already satisfied: werkzeug>=1.0.1 in d:\\anacconda\\lib\\site-packages (from tensorboard<2.13,>=2.12->tensorflow-intel==2.12.0->tensorflow) (2.0.3)\n",
      "Requirement already satisfied: markdown>=2.6.8 in d:\\anacconda\\lib\\site-packages (from tensorboard<2.13,>=2.12->tensorflow-intel==2.12.0->tensorflow) (3.3.4)\n",
      "Requirement already satisfied: tensorboard-data-server<0.8.0,>=0.7.0 in d:\\anacconda\\lib\\site-packages (from tensorboard<2.13,>=2.12->tensorflow-intel==2.12.0->tensorflow) (0.7.1)\n",
      "Requirement already satisfied: requests<3,>=2.21.0 in d:\\anacconda\\lib\\site-packages (from tensorboard<2.13,>=2.12->tensorflow-intel==2.12.0->tensorflow) (2.27.1)\n",
      "Requirement already satisfied: google-auth-oauthlib<1.1,>=0.5 in d:\\anacconda\\lib\\site-packages (from tensorboard<2.13,>=2.12->tensorflow-intel==2.12.0->tensorflow) (1.0.0)\n",
      "Requirement already satisfied: google-auth<3,>=1.6.3 in d:\\anacconda\\lib\\site-packages (from tensorboard<2.13,>=2.12->tensorflow-intel==2.12.0->tensorflow) (2.20.0)\n",
      "Requirement already satisfied: pyasn1-modules>=0.2.1 in d:\\anacconda\\lib\\site-packages (from google-auth<3,>=1.6.3->tensorboard<2.13,>=2.12->tensorflow-intel==2.12.0->tensorflow) (0.2.8)\n",
      "Requirement already satisfied: urllib3<2.0 in d:\\anacconda\\lib\\site-packages (from google-auth<3,>=1.6.3->tensorboard<2.13,>=2.12->tensorflow-intel==2.12.0->tensorflow) (1.26.9)\n",
      "Requirement already satisfied: cachetools<6.0,>=2.0.0 in d:\\anacconda\\lib\\site-packages (from google-auth<3,>=1.6.3->tensorboard<2.13,>=2.12->tensorflow-intel==2.12.0->tensorflow) (4.2.2)\n",
      "Requirement already satisfied: rsa<5,>=3.1.4 in d:\\anacconda\\lib\\site-packages (from google-auth<3,>=1.6.3->tensorboard<2.13,>=2.12->tensorflow-intel==2.12.0->tensorflow) (4.7.2)\n",
      "Requirement already satisfied: requests-oauthlib>=0.7.0 in d:\\anacconda\\lib\\site-packages (from google-auth-oauthlib<1.1,>=0.5->tensorboard<2.13,>=2.12->tensorflow-intel==2.12.0->tensorflow) (1.3.1)\n",
      "Requirement already satisfied: pyasn1<0.5.0,>=0.4.6 in d:\\anacconda\\lib\\site-packages (from pyasn1-modules>=0.2.1->google-auth<3,>=1.6.3->tensorboard<2.13,>=2.12->tensorflow-intel==2.12.0->tensorflow) (0.4.8)\n",
      "Requirement already satisfied: certifi>=2017.4.17 in d:\\anacconda\\lib\\site-packages (from requests<3,>=2.21.0->tensorboard<2.13,>=2.12->tensorflow-intel==2.12.0->tensorflow) (2021.10.8)\n",
      "Requirement already satisfied: charset-normalizer~=2.0.0 in d:\\anacconda\\lib\\site-packages (from requests<3,>=2.21.0->tensorboard<2.13,>=2.12->tensorflow-intel==2.12.0->tensorflow) (2.0.4)\n",
      "Requirement already satisfied: idna<4,>=2.5 in d:\\anacconda\\lib\\site-packages (from requests<3,>=2.21.0->tensorboard<2.13,>=2.12->tensorflow-intel==2.12.0->tensorflow) (3.3)\n",
      "Requirement already satisfied: oauthlib>=3.0.0 in d:\\anacconda\\lib\\site-packages (from requests-oauthlib>=0.7.0->google-auth-oauthlib<1.1,>=0.5->tensorboard<2.13,>=2.12->tensorflow-intel==2.12.0->tensorflow) (3.2.2)\n",
      "Requirement already satisfied: pyparsing!=3.0.5,>=2.0.2 in d:\\anacconda\\lib\\site-packages (from packaging->tensorflow-intel==2.12.0->tensorflow) (3.0.4)\n",
      "Note: you may need to restart the kernel to use updated packages.\n"
     ]
    }
   ],
   "source": [
    "pip install tensorflow"
   ]
  },
  {
   "cell_type": "code",
   "execution_count": 3,
   "id": "9e4f049a",
   "metadata": {},
   "outputs": [],
   "source": [
    "import numpy as np\n",
    "import pandas as pd\n",
    "import matplotlib.pyplot as plt\n",
    "from sklearn.preprocessing import MinMaxScaler\n",
    "from tensorflow.keras.models import Sequential\n",
    "from tensorflow.keras.layers import Dense, LSTM"
   ]
  },
  {
   "cell_type": "markdown",
   "id": "6d2c74f0",
   "metadata": {},
   "source": [
    "# Loading Dataset"
   ]
  },
  {
   "cell_type": "code",
   "execution_count": 4,
   "id": "dcb1c7b4",
   "metadata": {},
   "outputs": [
    {
     "data": {
      "text/html": [
       "<div>\n",
       "<style scoped>\n",
       "    .dataframe tbody tr th:only-of-type {\n",
       "        vertical-align: middle;\n",
       "    }\n",
       "\n",
       "    .dataframe tbody tr th {\n",
       "        vertical-align: top;\n",
       "    }\n",
       "\n",
       "    .dataframe thead th {\n",
       "        text-align: right;\n",
       "    }\n",
       "</style>\n",
       "<table border=\"1\" class=\"dataframe\">\n",
       "  <thead>\n",
       "    <tr style=\"text-align: right;\">\n",
       "      <th></th>\n",
       "      <th>Date</th>\n",
       "      <th>Open</th>\n",
       "      <th>High</th>\n",
       "      <th>Low</th>\n",
       "      <th>Last</th>\n",
       "      <th>Close</th>\n",
       "      <th>Total Trade Quantity</th>\n",
       "      <th>Turnover (Lacs)</th>\n",
       "    </tr>\n",
       "  </thead>\n",
       "  <tbody>\n",
       "    <tr>\n",
       "      <th>0</th>\n",
       "      <td>2018-09-28</td>\n",
       "      <td>234.05</td>\n",
       "      <td>235.95</td>\n",
       "      <td>230.20</td>\n",
       "      <td>233.50</td>\n",
       "      <td>233.75</td>\n",
       "      <td>3069914</td>\n",
       "      <td>7162.35</td>\n",
       "    </tr>\n",
       "    <tr>\n",
       "      <th>1</th>\n",
       "      <td>2018-09-27</td>\n",
       "      <td>234.55</td>\n",
       "      <td>236.80</td>\n",
       "      <td>231.10</td>\n",
       "      <td>233.80</td>\n",
       "      <td>233.25</td>\n",
       "      <td>5082859</td>\n",
       "      <td>11859.95</td>\n",
       "    </tr>\n",
       "    <tr>\n",
       "      <th>2</th>\n",
       "      <td>2018-09-26</td>\n",
       "      <td>240.00</td>\n",
       "      <td>240.00</td>\n",
       "      <td>232.50</td>\n",
       "      <td>235.00</td>\n",
       "      <td>234.25</td>\n",
       "      <td>2240909</td>\n",
       "      <td>5248.60</td>\n",
       "    </tr>\n",
       "    <tr>\n",
       "      <th>3</th>\n",
       "      <td>2018-09-25</td>\n",
       "      <td>233.30</td>\n",
       "      <td>236.75</td>\n",
       "      <td>232.00</td>\n",
       "      <td>236.25</td>\n",
       "      <td>236.10</td>\n",
       "      <td>2349368</td>\n",
       "      <td>5503.90</td>\n",
       "    </tr>\n",
       "    <tr>\n",
       "      <th>4</th>\n",
       "      <td>2018-09-24</td>\n",
       "      <td>233.55</td>\n",
       "      <td>239.20</td>\n",
       "      <td>230.75</td>\n",
       "      <td>234.00</td>\n",
       "      <td>233.30</td>\n",
       "      <td>3423509</td>\n",
       "      <td>7999.55</td>\n",
       "    </tr>\n",
       "  </tbody>\n",
       "</table>\n",
       "</div>"
      ],
      "text/plain": [
       "         Date    Open    High     Low    Last   Close  Total Trade Quantity  \\\n",
       "0  2018-09-28  234.05  235.95  230.20  233.50  233.75               3069914   \n",
       "1  2018-09-27  234.55  236.80  231.10  233.80  233.25               5082859   \n",
       "2  2018-09-26  240.00  240.00  232.50  235.00  234.25               2240909   \n",
       "3  2018-09-25  233.30  236.75  232.00  236.25  236.10               2349368   \n",
       "4  2018-09-24  233.55  239.20  230.75  234.00  233.30               3423509   \n",
       "\n",
       "   Turnover (Lacs)  \n",
       "0          7162.35  \n",
       "1         11859.95  \n",
       "2          5248.60  \n",
       "3          5503.90  \n",
       "4          7999.55  "
      ]
     },
     "execution_count": 4,
     "metadata": {},
     "output_type": "execute_result"
    }
   ],
   "source": [
    "# Load the stock market data\n",
    "url = \"https://raw.githubusercontent.com/mwitiderrick/stockprice/master/NSE-TATAGLOBAL.csv\"\n",
    "df = pd.read_csv(url)\n",
    "df.head()"
   ]
  },
  {
   "cell_type": "code",
   "execution_count": 5,
   "id": "795bef98",
   "metadata": {},
   "outputs": [
    {
     "data": {
      "text/html": [
       "<div>\n",
       "<style scoped>\n",
       "    .dataframe tbody tr th:only-of-type {\n",
       "        vertical-align: middle;\n",
       "    }\n",
       "\n",
       "    .dataframe tbody tr th {\n",
       "        vertical-align: top;\n",
       "    }\n",
       "\n",
       "    .dataframe thead th {\n",
       "        text-align: right;\n",
       "    }\n",
       "</style>\n",
       "<table border=\"1\" class=\"dataframe\">\n",
       "  <thead>\n",
       "    <tr style=\"text-align: right;\">\n",
       "      <th></th>\n",
       "      <th>Date</th>\n",
       "      <th>Open</th>\n",
       "      <th>High</th>\n",
       "      <th>Low</th>\n",
       "      <th>Last</th>\n",
       "      <th>Close</th>\n",
       "      <th>Total Trade Quantity</th>\n",
       "      <th>Turnover (Lacs)</th>\n",
       "    </tr>\n",
       "  </thead>\n",
       "  <tbody>\n",
       "    <tr>\n",
       "      <th>2030</th>\n",
       "      <td>2010-07-27</td>\n",
       "      <td>117.6</td>\n",
       "      <td>119.50</td>\n",
       "      <td>112.00</td>\n",
       "      <td>118.80</td>\n",
       "      <td>118.65</td>\n",
       "      <td>586100</td>\n",
       "      <td>694.98</td>\n",
       "    </tr>\n",
       "    <tr>\n",
       "      <th>2031</th>\n",
       "      <td>2010-07-26</td>\n",
       "      <td>120.1</td>\n",
       "      <td>121.00</td>\n",
       "      <td>117.10</td>\n",
       "      <td>117.10</td>\n",
       "      <td>117.60</td>\n",
       "      <td>658440</td>\n",
       "      <td>780.01</td>\n",
       "    </tr>\n",
       "    <tr>\n",
       "      <th>2032</th>\n",
       "      <td>2010-07-23</td>\n",
       "      <td>121.8</td>\n",
       "      <td>121.95</td>\n",
       "      <td>120.25</td>\n",
       "      <td>120.35</td>\n",
       "      <td>120.65</td>\n",
       "      <td>281312</td>\n",
       "      <td>340.31</td>\n",
       "    </tr>\n",
       "    <tr>\n",
       "      <th>2033</th>\n",
       "      <td>2010-07-22</td>\n",
       "      <td>120.3</td>\n",
       "      <td>122.00</td>\n",
       "      <td>120.25</td>\n",
       "      <td>120.75</td>\n",
       "      <td>120.90</td>\n",
       "      <td>293312</td>\n",
       "      <td>355.17</td>\n",
       "    </tr>\n",
       "    <tr>\n",
       "      <th>2034</th>\n",
       "      <td>2010-07-21</td>\n",
       "      <td>122.1</td>\n",
       "      <td>123.00</td>\n",
       "      <td>121.05</td>\n",
       "      <td>121.10</td>\n",
       "      <td>121.55</td>\n",
       "      <td>658666</td>\n",
       "      <td>803.56</td>\n",
       "    </tr>\n",
       "  </tbody>\n",
       "</table>\n",
       "</div>"
      ],
      "text/plain": [
       "            Date   Open    High     Low    Last   Close  Total Trade Quantity  \\\n",
       "2030  2010-07-27  117.6  119.50  112.00  118.80  118.65                586100   \n",
       "2031  2010-07-26  120.1  121.00  117.10  117.10  117.60                658440   \n",
       "2032  2010-07-23  121.8  121.95  120.25  120.35  120.65                281312   \n",
       "2033  2010-07-22  120.3  122.00  120.25  120.75  120.90                293312   \n",
       "2034  2010-07-21  122.1  123.00  121.05  121.10  121.55                658666   \n",
       "\n",
       "      Turnover (Lacs)  \n",
       "2030           694.98  \n",
       "2031           780.01  \n",
       "2032           340.31  \n",
       "2033           355.17  \n",
       "2034           803.56  "
      ]
     },
     "execution_count": 5,
     "metadata": {},
     "output_type": "execute_result"
    }
   ],
   "source": [
    "df.tail()"
   ]
  },
  {
   "cell_type": "code",
   "execution_count": 6,
   "id": "2c368790",
   "metadata": {},
   "outputs": [],
   "source": [
    "df1=df.reset_index()['Close']"
   ]
  },
  {
   "cell_type": "code",
   "execution_count": 7,
   "id": "60dd6c6d",
   "metadata": {},
   "outputs": [
    {
     "data": {
      "text/plain": [
       "0       233.75\n",
       "1       233.25\n",
       "2       234.25\n",
       "3       236.10\n",
       "4       233.30\n",
       "         ...  \n",
       "2030    118.65\n",
       "2031    117.60\n",
       "2032    120.65\n",
       "2033    120.90\n",
       "2034    121.55\n",
       "Name: Close, Length: 2035, dtype: float64"
      ]
     },
     "execution_count": 7,
     "metadata": {},
     "output_type": "execute_result"
    }
   ],
   "source": [
    "df1"
   ]
  },
  {
   "cell_type": "code",
   "execution_count": 8,
   "id": "2dfe1efc",
   "metadata": {},
   "outputs": [
    {
     "data": {
      "text/plain": [
       "[<matplotlib.lines.Line2D at 0x2999b915c40>]"
      ]
     },
     "execution_count": 8,
     "metadata": {},
     "output_type": "execute_result"
    },
    {
     "data": {
      "image/png": "[encoded data removed]",
      "text/plain": [
       "<Figure size 432x288 with 1 Axes>"
      ]
     },
     "metadata": {
      "needs_background": "light"
     },
     "output_type": "display_data"
    }
   ],
   "source": [
    "plt.plot(df1)"
   ]
  },
  {
   "cell_type": "markdown",
   "id": "7d866cfd",
   "metadata": {},
   "source": [
    "# Scatter Plot"
   ]
  },
  {
   "cell_type": "code",
   "execution_count": 9,
   "id": "adb9972e",
   "metadata": {},
   "outputs": [],
   "source": [
    "scaler=MinMaxScaler(feature_range=(0,1))\n",
    "df1=scaler.fit_transform(np.array(df1).reshape(-1,1))"
   ]
  },
  {
   "cell_type": "code",
   "execution_count": 10,
   "id": "536f0023",
   "metadata": {},
   "outputs": [
    {
     "name": "stdout",
     "output_type": "stream",
     "text": [
      "[[0.62418301]\n",
      " [0.62214052]\n",
      " [0.62622549]\n",
      " ...\n",
      " [0.1621732 ]\n",
      " [0.16319444]\n",
      " [0.16584967]]\n"
     ]
    }
   ],
   "source": [
    "print(df1)"
   ]
  },
  {
   "cell_type": "code",
   "execution_count": 11,
   "id": "49d26db8",
   "metadata": {},
   "outputs": [],
   "source": [
    "##splitting dataset into train and test split\n",
    "training_size=int(len(df1)*0.65)\n",
    "test_size=len(df1)-training_size\n",
    "train_data,test_data=df1[0:training_size,:],df1[training_size:len(df1),:1]"
   ]
  },
  {
   "cell_type": "code",
   "execution_count": 12,
   "id": "73f948fc",
   "metadata": {},
   "outputs": [
    {
     "data": {
      "text/plain": [
       "(1322, 713)"
      ]
     },
     "execution_count": 12,
     "metadata": {},
     "output_type": "execute_result"
    }
   ],
   "source": [
    "training_size,test_size"
   ]
  },
  {
   "cell_type": "code",
   "execution_count": 13,
   "id": "07f04fe3",
   "metadata": {},
   "outputs": [
    {
     "data": {
      "text/plain": [
       "array([[0.62418301],\n",
       "       [0.62214052],\n",
       "       [0.62622549],\n",
       "       ...,\n",
       "       [0.25347222],\n",
       "       [0.26041667],\n",
       "       [0.2563317 ]])"
      ]
     },
     "execution_count": 13,
     "metadata": {},
     "output_type": "execute_result"
    }
   ],
   "source": [
    "train_data"
   ]
  },
  {
   "cell_type": "code",
   "execution_count": 14,
   "id": "67cc60f4",
   "metadata": {},
   "outputs": [],
   "source": [
    "import numpy\n",
    "# convert an array of values into a dataset matrix\n",
    "def create_dataset(dataset, time_step=1):\n",
    "    dataX, dataY = [], []\n",
    "    for i in range(len(dataset)-time_step-1):\n",
    "        a = dataset[i:(i+time_step), 0]   ###i=0, 0,1,2,3-----99   100 \n",
    "        dataX.append(a)\n",
    "        dataY.append(dataset[i + time_step, 0])\n",
    "    return numpy.array(dataX), numpy.array(dataY)"
   ]
  },
  {
   "cell_type": "code",
   "execution_count": 15,
   "id": "f3ea2f73",
   "metadata": {},
   "outputs": [],
   "source": [
    "# reshape into X=t,t+1,t+2,t+3 and Y=t+4\n",
    "time_step = 100\n",
    "X_train, y_train = create_dataset(train_data, time_step)\n",
    "X_test, ytest = create_dataset(test_data, time_step)"
   ]
  },
  {
   "cell_type": "code",
   "execution_count": 16,
   "id": "7deac3ad",
   "metadata": {},
   "outputs": [
    {
     "name": "stdout",
     "output_type": "stream",
     "text": [
      "(1221, 100)\n",
      "(1221,)\n"
     ]
    },
    {
     "data": {
      "text/plain": [
       "(None, None)"
      ]
     },
     "execution_count": 16,
     "metadata": {},
     "output_type": "execute_result"
    }
   ],
   "source": [
    "print(X_train.shape), print(y_train.shape)"
   ]
  },
  {
   "cell_type": "code",
   "execution_count": 17,
   "id": "a98853e4",
   "metadata": {},
   "outputs": [
    {
     "name": "stdout",
     "output_type": "stream",
     "text": [
      "(612, 100)\n",
      "(612,)\n"
     ]
    },
    {
     "data": {
      "text/plain": [
       "(None, None)"
      ]
     },
     "execution_count": 17,
     "metadata": {},
     "output_type": "execute_result"
    }
   ],
   "source": [
    "print(X_test.shape), print(ytest.shape)"
   ]
  },
  {
   "cell_type": "code",
   "execution_count": 18,
   "id": "1d93a2c2",
   "metadata": {},
   "outputs": [],
   "source": [
    "# reshape input to be [samples, time steps, features] which is required for LSTM\n",
    "X_train =X_train.reshape(X_train.shape[0],X_train.shape[1] , 1)\n",
    "X_test = X_test.reshape(X_test.shape[0],X_test.shape[1] , 1)"
   ]
  },
  {
   "cell_type": "code",
   "execution_count": 19,
   "id": "33a47515",
   "metadata": {},
   "outputs": [],
   "source": [
    "model=Sequential()\n",
    "model.add(LSTM(50,return_sequences=True,input_shape=(100,1)))\n",
    "model.add(LSTM(50,return_sequences=True))\n",
    "model.add(LSTM(50))\n",
    "model.add(Dense(1))\n",
    "model.compile(loss='mean_squared_error',optimizer='adam')"
   ]
  },
  {
   "cell_type": "code",
   "execution_count": 20,
   "id": "256a71ee",
   "metadata": {},
   "outputs": [
    {
     "name": "stdout",
     "output_type": "stream",
     "text": [
      "Model: \"sequential\"\n",
      "_________________________________________________________________\n",
      " Layer (type)                Output Shape              Param #   \n",
      "=================================================================\n",
      " lstm (LSTM)                 (None, 100, 50)           10400     \n",
      "                                                                 \n",
      " lstm_1 (LSTM)               (None, 100, 50)           20200     \n",
      "                                                                 \n",
      " lstm_2 (LSTM)               (None, 50)                20200     \n",
      "                                                                 \n",
      " dense (Dense)               (None, 1)                 51        \n",
      "                                                                 \n",
      "=================================================================\n",
      "Total params: 50,851\n",
      "Trainable params: 50,851\n",
      "Non-trainable params: 0\n",
      "_________________________________________________________________\n"
     ]
    }
   ],
   "source": [
    "model.summary()"
   ]
  },
  {
   "cell_type": "code",
   "execution_count": 21,
   "id": "62c50346",
   "metadata": {},
   "outputs": [
    {
     "name": "stdout",
     "output_type": "stream",
     "text": [
      "Model: \"sequential\"\n",
      "_________________________________________________________________\n",
      " Layer (type)                Output Shape              Param #   \n",
      "=================================================================\n",
      " lstm (LSTM)                 (None, 100, 50)           10400     \n",
      "                                                                 \n",
      " lstm_1 (LSTM)               (None, 100, 50)           20200     \n",
      "                                                                 \n",
      " lstm_2 (LSTM)               (None, 50)                20200     \n",
      "                                                                 \n",
      " dense (Dense)               (None, 1)                 51        \n",
      "                                                                 \n",
      "=================================================================\n",
      "Total params: 50,851\n",
      "Trainable params: 50,851\n",
      "Non-trainable params: 0\n",
      "_________________________________________________________________\n"
     ]
    }
   ],
   "source": [
    "model.summary()"
   ]
  },
  {
   "cell_type": "code",
   "execution_count": 22,
   "id": "01a15755",
   "metadata": {},
   "outputs": [
    {
     "name": "stdout",
     "output_type": "stream",
     "text": [
      "Epoch 1/100\n",
      "20/20 [==============================] - 13s 302ms/step - loss: 0.0284 - val_loss: 0.0038\n",
      "Epoch 2/100\n",
      "20/20 [==============================] - 4s 226ms/step - loss: 0.0038 - val_loss: 0.0018\n",
      "Epoch 3/100\n",
      "20/20 [==============================] - 5s 253ms/step - loss: 0.0022 - val_loss: 0.0017\n",
      "Epoch 4/100\n",
      "20/20 [==============================] - 6s 304ms/step - loss: 0.0017 - val_loss: 0.0010\n",
      "Epoch 5/100\n",
      "20/20 [==============================] - 6s 284ms/step - loss: 0.0015 - val_loss: 0.0013\n",
      "Epoch 6/100\n",
      "20/20 [==============================] - 7s 344ms/step - loss: 0.0014 - val_loss: 0.0011\n",
      "Epoch 7/100\n",
      "20/20 [==============================] - 7s 363ms/step - loss: 0.0014 - val_loss: 0.0015\n",
      "Epoch 8/100\n",
      "20/20 [==============================] - 6s 325ms/step - loss: 0.0013 - val_loss: 0.0011\n",
      "Epoch 9/100\n",
      "20/20 [==============================] - 5s 267ms/step - loss: 0.0013 - val_loss: 9.5998e-04\n",
      "Epoch 10/100\n",
      "20/20 [==============================] - 5s 253ms/step - loss: 0.0013 - val_loss: 9.8005e-04\n",
      "Epoch 11/100\n",
      "20/20 [==============================] - 6s 279ms/step - loss: 0.0012 - val_loss: 7.6093e-04\n",
      "Epoch 12/100\n",
      "20/20 [==============================] - 6s 310ms/step - loss: 0.0013 - val_loss: 8.8133e-04\n",
      "Epoch 13/100\n",
      "20/20 [==============================] - 6s 324ms/step - loss: 0.0013 - val_loss: 0.0010\n",
      "Epoch 14/100\n",
      "20/20 [==============================] - 6s 308ms/step - loss: 0.0013 - val_loss: 8.9348e-04\n",
      "Epoch 15/100\n",
      "20/20 [==============================] - 6s 306ms/step - loss: 0.0010 - val_loss: 0.0010\n",
      "Epoch 16/100\n",
      "20/20 [==============================] - 6s 313ms/step - loss: 0.0011 - val_loss: 7.4091e-04\n",
      "Epoch 17/100\n",
      "20/20 [==============================] - 6s 288ms/step - loss: 9.3867e-04 - val_loss: 7.8354e-04\n",
      "Epoch 18/100\n",
      "20/20 [==============================] - 5s 259ms/step - loss: 9.3638e-04 - val_loss: 9.2075e-04\n",
      "Epoch 19/100\n",
      "20/20 [==============================] - 6s 299ms/step - loss: 8.8223e-04 - val_loss: 8.6109e-04\n",
      "Epoch 20/100\n",
      "20/20 [==============================] - 6s 258ms/step - loss: 8.7599e-04 - val_loss: 7.6008e-04\n",
      "Epoch 21/100\n",
      "20/20 [==============================] - 6s 309ms/step - loss: 9.1808e-04 - val_loss: 8.1156e-04\n",
      "Epoch 22/100\n",
      "20/20 [==============================] - 6s 308ms/step - loss: 8.6174e-04 - val_loss: 9.3377e-04\n",
      "Epoch 23/100\n",
      "20/20 [==============================] - 6s 310ms/step - loss: 8.1722e-04 - val_loss: 6.4654e-04\n",
      "Epoch 24/100\n",
      "20/20 [==============================] - 6s 312ms/step - loss: 8.3015e-04 - val_loss: 7.0752e-04\n",
      "Epoch 25/100\n",
      "20/20 [==============================] - 6s 312ms/step - loss: 7.5317e-04 - val_loss: 7.7482e-04\n",
      "Epoch 26/100\n",
      "20/20 [==============================] - 6s 311ms/step - loss: 7.3805e-04 - val_loss: 8.1308e-04\n",
      "Epoch 27/100\n",
      "20/20 [==============================] - 6s 311ms/step - loss: 7.9255e-04 - val_loss: 7.4039e-04\n",
      "Epoch 28/100\n",
      "20/20 [==============================] - 6s 311ms/step - loss: 8.1660e-04 - val_loss: 9.5453e-04\n",
      "Epoch 29/100\n",
      "20/20 [==============================] - 6s 321ms/step - loss: 7.3014e-04 - val_loss: 8.7847e-04\n",
      "Epoch 30/100\n",
      "20/20 [==============================] - 7s 353ms/step - loss: 7.2429e-04 - val_loss: 7.0817e-04\n",
      "Epoch 31/100\n",
      "20/20 [==============================] - 7s 339ms/step - loss: 6.8182e-04 - val_loss: 7.5869e-04\n",
      "Epoch 32/100\n",
      "20/20 [==============================] - 6s 329ms/step - loss: 6.6935e-04 - val_loss: 6.6632e-04\n",
      "Epoch 33/100\n",
      "20/20 [==============================] - 6s 310ms/step - loss: 6.7584e-04 - val_loss: 9.2096e-04\n",
      "Epoch 34/100\n",
      "20/20 [==============================] - 6s 312ms/step - loss: 6.8979e-04 - val_loss: 7.9757e-04\n",
      "Epoch 35/100\n",
      "20/20 [==============================] - 6s 317ms/step - loss: 6.2974e-04 - val_loss: 6.8545e-04\n",
      "Epoch 36/100\n",
      "20/20 [==============================] - 7s 334ms/step - loss: 7.3737e-04 - val_loss: 5.9727e-04\n",
      "Epoch 37/100\n",
      "20/20 [==============================] - 7s 336ms/step - loss: 0.0011 - val_loss: 5.9370e-04\n",
      "Epoch 38/100\n",
      "20/20 [==============================] - 6s 327ms/step - loss: 7.3633e-04 - val_loss: 6.1491e-04\n",
      "Epoch 39/100\n",
      "20/20 [==============================] - 7s 359ms/step - loss: 6.5605e-04 - val_loss: 7.9947e-04\n",
      "Epoch 40/100\n",
      "20/20 [==============================] - 7s 344ms/step - loss: 6.2520e-04 - val_loss: 8.4696e-04\n",
      "Epoch 41/100\n",
      "20/20 [==============================] - 6s 323ms/step - loss: 6.6637e-04 - val_loss: 8.1226e-04\n",
      "Epoch 42/100\n",
      "20/20 [==============================] - 7s 341ms/step - loss: 6.2461e-04 - val_loss: 6.2303e-04\n",
      "Epoch 43/100\n",
      "20/20 [==============================] - 8s 388ms/step - loss: 5.9447e-04 - val_loss: 5.6436e-04\n",
      "Epoch 44/100\n",
      "20/20 [==============================] - 7s 361ms/step - loss: 5.9324e-04 - val_loss: 6.8985e-04\n",
      "Epoch 45/100\n",
      "20/20 [==============================] - 6s 307ms/step - loss: 6.4064e-04 - val_loss: 6.8925e-04\n",
      "Epoch 46/100\n",
      "20/20 [==============================] - 7s 330ms/step - loss: 7.6600e-04 - val_loss: 8.4888e-04\n",
      "Epoch 47/100\n",
      "20/20 [==============================] - 8s 394ms/step - loss: 7.7938e-04 - val_loss: 7.5147e-04\n",
      "Epoch 48/100\n",
      "20/20 [==============================] - 7s 345ms/step - loss: 5.6407e-04 - val_loss: 5.8953e-04\n",
      "Epoch 49/100\n",
      "20/20 [==============================] - 7s 348ms/step - loss: 5.3704e-04 - val_loss: 0.0010\n",
      "Epoch 50/100\n",
      "20/20 [==============================] - 7s 351ms/step - loss: 7.5416e-04 - val_loss: 6.9860e-04\n",
      "Epoch 51/100\n",
      "20/20 [==============================] - 7s 359ms/step - loss: 5.6210e-04 - val_loss: 4.7182e-04\n",
      "Epoch 52/100\n",
      "20/20 [==============================] - 8s 399ms/step - loss: 7.5843e-04 - val_loss: 5.2933e-04\n",
      "Epoch 53/100\n",
      "20/20 [==============================] - 8s 412ms/step - loss: 5.9148e-04 - val_loss: 6.2050e-04\n",
      "Epoch 54/100\n",
      "20/20 [==============================] - 8s 397ms/step - loss: 5.5202e-04 - val_loss: 6.7464e-04\n",
      "Epoch 55/100\n",
      "20/20 [==============================] - 7s 376ms/step - loss: 4.9974e-04 - val_loss: 6.7831e-04\n",
      "Epoch 56/100\n",
      "20/20 [==============================] - 7s 350ms/step - loss: 5.4407e-04 - val_loss: 5.1502e-04\n",
      "Epoch 57/100\n",
      "20/20 [==============================] - 7s 342ms/step - loss: 5.4055e-04 - val_loss: 5.0151e-04\n",
      "Epoch 58/100\n",
      "20/20 [==============================] - 6s 319ms/step - loss: 4.9432e-04 - val_loss: 6.2000e-04\n",
      "Epoch 59/100\n",
      "20/20 [==============================] - 6s 310ms/step - loss: 5.1160e-04 - val_loss: 4.6503e-04\n",
      "Epoch 60/100\n",
      "20/20 [==============================] - 6s 310ms/step - loss: 4.6974e-04 - val_loss: 5.6840e-04\n",
      "Epoch 61/100\n",
      "20/20 [==============================] - 6s 315ms/step - loss: 4.7998e-04 - val_loss: 5.2856e-04\n",
      "Epoch 62/100\n",
      "20/20 [==============================] - 6s 320ms/step - loss: 4.9186e-04 - val_loss: 4.7221e-04\n",
      "Epoch 63/100\n",
      "20/20 [==============================] - 7s 358ms/step - loss: 4.5570e-04 - val_loss: 4.4443e-04\n",
      "Epoch 64/100\n",
      "20/20 [==============================] - 7s 383ms/step - loss: 4.4155e-04 - val_loss: 6.9041e-04\n",
      "Epoch 65/100\n",
      "20/20 [==============================] - 9s 455ms/step - loss: 5.5499e-04 - val_loss: 4.7477e-04\n",
      "Epoch 66/100\n",
      "20/20 [==============================] - 7s 361ms/step - loss: 4.5831e-04 - val_loss: 4.2571e-04\n",
      "Epoch 67/100\n",
      "20/20 [==============================] - 7s 353ms/step - loss: 4.4169e-04 - val_loss: 4.0706e-04\n",
      "Epoch 68/100\n",
      "20/20 [==============================] - 7s 359ms/step - loss: 4.3951e-04 - val_loss: 4.2700e-04\n",
      "Epoch 69/100\n",
      "20/20 [==============================] - 7s 338ms/step - loss: 4.0525e-04 - val_loss: 5.0761e-04\n",
      "Epoch 70/100\n",
      "20/20 [==============================] - 6s 325ms/step - loss: 4.3065e-04 - val_loss: 4.0907e-04\n",
      "Epoch 71/100\n",
      "20/20 [==============================] - 8s 390ms/step - loss: 4.5982e-04 - val_loss: 3.6149e-04\n",
      "Epoch 72/100\n",
      "20/20 [==============================] - 8s 383ms/step - loss: 3.9798e-04 - val_loss: 5.7450e-04\n",
      "Epoch 73/100\n",
      "20/20 [==============================] - 7s 367ms/step - loss: 4.1063e-04 - val_loss: 3.7589e-04\n",
      "Epoch 74/100\n",
      "20/20 [==============================] - 7s 364ms/step - loss: 4.0519e-04 - val_loss: 3.6380e-04\n",
      "Epoch 75/100\n",
      "20/20 [==============================] - 7s 354ms/step - loss: 3.5399e-04 - val_loss: 3.9091e-04\n",
      "Epoch 76/100\n"
     ]
    },
    {
     "name": "stdout",
     "output_type": "stream",
     "text": [
      "20/20 [==============================] - 7s 348ms/step - loss: 3.9455e-04 - val_loss: 3.8310e-04\n",
      "Epoch 77/100\n",
      "20/20 [==============================] - 7s 372ms/step - loss: 9.2528e-04 - val_loss: 2.8692e-04\n",
      "Epoch 78/100\n",
      "20/20 [==============================] - 7s 346ms/step - loss: 4.2131e-04 - val_loss: 4.2580e-04\n",
      "Epoch 79/100\n",
      "20/20 [==============================] - 7s 344ms/step - loss: 3.4903e-04 - val_loss: 3.3113e-04\n",
      "Epoch 80/100\n",
      "20/20 [==============================] - 9s 434ms/step - loss: 3.4436e-04 - val_loss: 3.9203e-04\n",
      "Epoch 81/100\n",
      "20/20 [==============================] - 7s 329ms/step - loss: 3.2525e-04 - val_loss: 3.4372e-04\n",
      "Epoch 82/100\n",
      "20/20 [==============================] - 7s 366ms/step - loss: 3.2742e-04 - val_loss: 4.2197e-04\n",
      "Epoch 83/100\n",
      "20/20 [==============================] - 7s 346ms/step - loss: 3.1827e-04 - val_loss: 3.2935e-04\n",
      "Epoch 84/100\n",
      "20/20 [==============================] - 7s 336ms/step - loss: 3.1059e-04 - val_loss: 3.7909e-04\n",
      "Epoch 85/100\n",
      "20/20 [==============================] - 7s 346ms/step - loss: 3.1672e-04 - val_loss: 2.9945e-04\n",
      "Epoch 86/100\n",
      "20/20 [==============================] - 7s 346ms/step - loss: 2.9982e-04 - val_loss: 2.9355e-04\n",
      "Epoch 87/100\n",
      "20/20 [==============================] - 7s 368ms/step - loss: 3.5145e-04 - val_loss: 5.3352e-04\n",
      "Epoch 88/100\n",
      "20/20 [==============================] - 6s 327ms/step - loss: 3.9472e-04 - val_loss: 2.9238e-04\n",
      "Epoch 89/100\n",
      "20/20 [==============================] - 7s 343ms/step - loss: 3.2955e-04 - val_loss: 3.5431e-04\n",
      "Epoch 90/100\n",
      "20/20 [==============================] - 7s 318ms/step - loss: 3.3535e-04 - val_loss: 2.7153e-04\n",
      "Epoch 91/100\n",
      "20/20 [==============================] - 8s 376ms/step - loss: 2.7818e-04 - val_loss: 2.8752e-04\n",
      "Epoch 92/100\n",
      "20/20 [==============================] - 7s 354ms/step - loss: 2.9281e-04 - val_loss: 2.6681e-04\n",
      "Epoch 93/100\n",
      "20/20 [==============================] - 6s 331ms/step - loss: 2.7257e-04 - val_loss: 2.5742e-04\n",
      "Epoch 94/100\n",
      "20/20 [==============================] - 7s 369ms/step - loss: 2.6182e-04 - val_loss: 2.4786e-04\n",
      "Epoch 95/100\n",
      "20/20 [==============================] - 7s 355ms/step - loss: 2.9566e-04 - val_loss: 2.7597e-04\n",
      "Epoch 96/100\n",
      "20/20 [==============================] - 7s 365ms/step - loss: 2.6963e-04 - val_loss: 3.8600e-04\n",
      "Epoch 97/100\n",
      "20/20 [==============================] - 7s 345ms/step - loss: 4.5498e-04 - val_loss: 2.5556e-04\n",
      "Epoch 98/100\n",
      "20/20 [==============================] - 6s 330ms/step - loss: 2.9791e-04 - val_loss: 2.4500e-04\n",
      "Epoch 99/100\n",
      "20/20 [==============================] - 7s 345ms/step - loss: 2.9139e-04 - val_loss: 2.1903e-04\n",
      "Epoch 100/100\n",
      "20/20 [==============================] - 7s 347ms/step - loss: 2.7308e-04 - val_loss: 2.4306e-04\n"
     ]
    },
    {
     "data": {
      "text/plain": [
       "<keras.callbacks.History at 0x299a436dd30>"
      ]
     },
     "execution_count": 22,
     "metadata": {},
     "output_type": "execute_result"
    }
   ],
   "source": [
    "model.fit(X_train,y_train,validation_data=(X_test,ytest),epochs=100,batch_size=64,verbose=1)"
   ]
  },
  {
   "cell_type": "code",
   "execution_count": 23,
   "id": "1a419624",
   "metadata": {},
   "outputs": [],
   "source": [
    "import tensorflow as tf"
   ]
  },
  {
   "cell_type": "code",
   "execution_count": 24,
   "id": "d9b28eaa",
   "metadata": {},
   "outputs": [
    {
     "name": "stdout",
     "output_type": "stream",
     "text": [
      "39/39 [==============================] - 5s 57ms/step\n",
      "20/20 [==============================] - 2s 121ms/step\n"
     ]
    }
   ],
   "source": [
    "### Lets Do the prediction and check performance metrics\n",
    "train_predict=model.predict(X_train)\n",
    "test_predict=model.predict(X_test)"
   ]
  },
  {
   "cell_type": "code",
   "execution_count": 25,
   "id": "4591415a",
   "metadata": {},
   "outputs": [],
   "source": [
    "##Transformback to original form\n",
    "train_predict=scaler.inverse_transform(train_predict)\n",
    "test_predict=scaler.inverse_transform(test_predict)"
   ]
  },
  {
   "cell_type": "code",
   "execution_count": 26,
   "id": "6cac1f44",
   "metadata": {},
   "outputs": [
    {
     "data": {
      "text/plain": [
       "166.50448364373537"
      ]
     },
     "execution_count": 26,
     "metadata": {},
     "output_type": "execute_result"
    }
   ],
   "source": [
    "### Calculate RMSE performance metrics\n",
    "import math\n",
    "from sklearn.metrics import mean_squared_error\n",
    "math.sqrt(mean_squared_error(y_train,train_predict))"
   ]
  },
  {
   "cell_type": "code",
   "execution_count": 27,
   "id": "560d79c2",
   "metadata": {},
   "outputs": [
    {
     "data": {
      "text/plain": [
       "116.22375972294776"
      ]
     },
     "execution_count": 27,
     "metadata": {},
     "output_type": "execute_result"
    }
   ],
   "source": [
    "### Test Data RMSE\n",
    "math.sqrt(mean_squared_error(ytest,test_predict))"
   ]
  },
  {
   "cell_type": "code",
   "execution_count": 28,
   "id": "ee16ae6d",
   "metadata": {},
   "outputs": [
    {
     "data": {
      "image/png": "[encoded data removed]",
      "text/plain": [
       "<Figure size 432x288 with 1 Axes>"
      ]
     },
     "metadata": {
      "needs_background": "light"
     },
     "output_type": "display_data"
    }
   ],
   "source": [
    "### Plotting \n",
    "# shift train predictions for plotting\n",
    "look_back=100\n",
    "trainPredictPlot = numpy.empty_like(df1)\n",
    "trainPredictPlot[:, :] = np.nan\n",
    "trainPredictPlot[look_back:len(train_predict)+look_back, :] = train_predict\n",
    "# shift test predictions for plotting\n",
    "testPredictPlot = numpy.empty_like(df1)\n",
    "testPredictPlot[:, :] = numpy.nan\n",
    "testPredictPlot[len(train_predict)+(look_back*2)+1:len(df1)-1, :] = test_predict\n",
    "# plot baseline and predictions\n",
    "plt.plot(scaler.inverse_transform(df1))\n",
    "plt.plot(trainPredictPlot)\n",
    "plt.plot(testPredictPlot)\n",
    "plt.show()"
   ]
  },
  {
   "cell_type": "code",
   "execution_count": null,
   "id": "40e1a16f",
   "metadata": {},
   "outputs": [],
   "source": []
  }
 ],
 "metadata": {
  "kernelspec": {
   "display_name": "Python 3 (ipykernel)",
   "language": "python",
   "name": "python3"
  },
  "language_info": {
   "codemirror_mode": {
    "name": "ipython",
    "version": 3
   },
   "file_extension": ".py",
   "mimetype": "text/x-python",
   "name": "python",
   "nbconvert_exporter": "python",
   "pygments_lexer": "ipython3",
   "version": "3.9.12"
  }
 },
 "nbformat": 4,
 "nbformat_minor": 5
}
